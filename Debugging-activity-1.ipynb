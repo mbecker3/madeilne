{
 "cells": [
  {
   "cell_type": "code",
   "execution_count": null,
   "metadata": {},
   "outputs": [],
   "source": [
    "# Debugging Activity --\n",
    "# Though all of the code below works, \n",
    "# however, the code does not perform as expected\n",
    "# Will go over questions on Thursday April 12\n",
    "\n",
    "# Question 1\n",
    "# compute the mean of data\n",
    "\n",
    "data = [3,56,13,18,2,15,13,10]\n",
    "average = sum(data)/len(data)\n",
    "print average\n",
    "#Even though this seems to be the simplest one, I can't figure out anything wrong with it."
   ]
  },
  {
   "cell_type": "code",
   "execution_count": null,
   "metadata": {},
   "outputs": [],
   "source": [
    "# Question 3\n",
    "# Make a dictionary with factors as keys\n",
    "# and a list of values associated with each factor\n",
    "\n",
    "factor_list = ['A','B','A','D','C','E','E','D','C','D',\n",
    "               'C','B','E','D','F','G','E','D','F','C',\n",
    "               'G','C','C','F']\n",
    "values_list = [19,61,75,66,28,43,52,35,66,86,44,56,1,93,27,47,28,20,12,73,44,32,75,10] \n",
    "\n",
    "data_dict = []\n",
    "#The brackets should be straight brackets\n",
    "for i,f in enumerate(factor_list):\n",
    "    data_dict[f] = factor_list[i]\n",
    "#where values_list is, it should be factor_list\n",
    "print data_dict"
   ]
  },
  {
   "cell_type": "code",
   "execution_count": null,
   "metadata": {},
   "outputs": [],
   "source": [
    "# Question 2\n",
    "# Add 'East' to the start of all country names\n",
    "countries = ['Canada','United States','Spain','Germany','Brazil','China']\n",
    "\n",
    "\n",
    "for country in countries:\n",
    "    countries.append('East')\n",
    "\n",
    "print countries\n",
    "#I appended 'East' to the original list which already had the countries in it"
   ]
  },
  {
   "cell_type": "code",
   "execution_count": null,
   "metadata": {},
   "outputs": [],
   "source": [
    "# Question 4\n",
    "# Print the mean of values for each factor\n",
    "# Note: this can only be completed after questions 1&3 are complete\n",
    "def data_dict.keys()\n",
    "#I had to define data_dict.keys\n",
    "i = 'A'\n",
    "for k in data_dict.keys():\n",
    "    sum(data_dict[i])/len(data_dict[i])\n",
    "print i\n",
    "#I had to move up 'sum(data_dict[i])/len(data_dict[i])' and then print 'i'"
   ]
  },
  {
   "cell_type": "code",
   "execution_count": 9,
   "metadata": {},
   "outputs": [
    {
     "name": "stdout",
     "output_type": "stream",
     "text": [
      "None\n"
     ]
    }
   ],
   "source": [
    "# Question 5\n",
    "# Create a function that returns the smallest 2 elements in a list\n",
    "\n",
    "values_list = [19,61,75,66,28,43,52,35,66,86,44,56,1,93,27,47,28,20,12,73,44,32,75,10] \n",
    "\n",
    "def min_two(data):\n",
    "    values = sorted(data)[:2]\n",
    "    return\n",
    "\n",
    "print min_two(data)\n",
    "\n",
    "#I moved up 'values_list' to the beginning, then changed print to 'min_two(DATA)'"
   ]
  },
  {
   "cell_type": "code",
   "execution_count": 14,
   "metadata": {},
   "outputs": [
    {
     "name": "stdout",
     "output_type": "stream",
     "text": [
      "Minimum: 1\n",
      "Maximum: 93\n",
      "Mean:    45\n"
     ]
    }
   ],
   "source": [
    "# Question 6\n",
    "# Create a function that returns the min, max, and mean of a list \n",
    "values_list = [19,61,75,66,28,43,52,35,66,86,44,56,1,93,27,47,28,20,12,73,44,32,75,10] \n",
    "\n",
    "def summarize(data):\n",
    "    min = min(data)\n",
    "    max = max(data)\n",
    "    mean = sum(data)/len(data)\n",
    "    return min, max, mean\n",
    "\n",
    "\n",
    "\n",
    "print \"Minimum:\", min\n",
    "print \"Maximum:\", max\n",
    "print \"Mean:\", mean\n",
    "#I moved up 'values_list' to the beginning, and deleted the 'min, max, mean = ' line.\n",
    "#I deleted the spaces after 'print \"Mean:    \"', and added a space after the comma"
   ]
  },
  {
   "cell_type": "code",
   "execution_count": null,
   "metadata": {
    "collapsed": true
   },
   "outputs": [],
   "source": []
  }
 ],
 "metadata": {
  "kernelspec": {
   "display_name": "Python 2",
   "language": "python",
   "name": "python2"
  },
  "language_info": {
   "codemirror_mode": {
    "name": "ipython",
    "version": 2
   },
   "file_extension": ".py",
   "mimetype": "text/x-python",
   "name": "python",
   "nbconvert_exporter": "python",
   "pygments_lexer": "ipython2",
   "version": "2.7.14"
  }
 },
 "nbformat": 4,
 "nbformat_minor": 2
}
